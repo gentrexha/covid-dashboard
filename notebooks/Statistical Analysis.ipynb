{
 "cells": [
  {
   "cell_type": "markdown",
   "metadata": {},
   "source": [
    "# Statiscal Analysis of Insights\n",
    "\n",
    "## Data Setup"
   ]
  },
  {
   "cell_type": "code",
   "execution_count": 93,
   "metadata": {},
   "outputs": [],
   "source": [
    "# This works so long as the importing script is run from its containing directory. ie.:\n",
    "# `visual-data-science/Part 2/notebooks`\n",
    "import sys\n",
    "sys.path.append('../')  \n",
    "from src.utils import setup_data\n",
    "\n",
    "\n",
    "df_deaths, df_recovered, df_total = setup_data()"
   ]
  },
  {
   "cell_type": "code",
   "execution_count": 94,
   "metadata": {},
   "outputs": [],
   "source": [
    "df_total.drop([\"country\"], axis=1, inplace=True)"
   ]
  },
  {
   "cell_type": "markdown",
   "metadata": {},
   "source": [
    "## Preprocessing"
   ]
  },
  {
   "cell_type": "code",
   "execution_count": 95,
   "metadata": {},
   "outputs": [],
   "source": [
    "import pandas as pd\n",
    "\n",
    "\n",
    "df_deaths_daily = df_deaths.iloc[:,1:-5].diff(axis=1).fillna(0)\n",
    "df_recovered_daily = df_recovered.iloc[:,1:-5].diff(axis=1).fillna(0)\n",
    "df_total_daily = df_total.iloc[:,1:-5].diff(axis=1).fillna(0)\n",
    "\n",
    "missing_columns = [\"Country/Region\", \"iso_code\", \"location\", \"continent\", \"gdp_per_capita\",\"population\"]\n",
    "\n",
    "for col in missing_columns:\n",
    "    df_deaths_daily[col] = df_deaths[col]\n",
    "    df_recovered_daily[col] = df_recovered[col]\n",
    "    df_total_daily[col] = df_total[col]"
   ]
  },
  {
   "cell_type": "markdown",
   "metadata": {},
   "source": [
    "## Insight 1"
   ]
  },
  {
   "cell_type": "code",
   "execution_count": 96,
   "metadata": {},
   "outputs": [
    {
     "data": {
      "text/plain": [
       "0.37829443789547984"
      ]
     },
     "execution_count": 96,
     "metadata": {},
     "output_type": "execute_result"
    }
   ],
   "source": [
    "from datetime import datetime, timedelta\n",
    "yesterday = datetime.now() - timedelta(2)\n",
    "selected_date = datetime.strftime(yesterday, \"%m/%#d/%y\")\n",
    "\n",
    "df_total[\"cases_per_capita\"] = df_total[selected_date] / df_total[\"population\"]\n",
    "\n",
    "correlation = df_total[\"cases_per_capita\"].corr(df_total[\"gdp_per_capita\"], method=\"pearson\")\n",
    "correlation"
   ]
  },
  {
   "cell_type": "markdown",
   "metadata": {},
   "source": [
    "## Insight 2"
   ]
  },
  {
   "cell_type": "code",
   "execution_count": 100,
   "metadata": {},
   "outputs": [],
   "source": [
    "austria = df_total_daily.loc[df_total_daily[\"iso_code\"]==\"AUT\"]"
   ]
  },
  {
   "cell_type": "code",
   "execution_count": 159,
   "metadata": {},
   "outputs": [],
   "source": [
    "first = austria.loc[:, \"1/22/20\":\"4/6/20\"]\n",
    "second = austria.loc[:, \"8/21/20\":selected_date]"
   ]
  },
  {
   "cell_type": "code",
   "execution_count": 162,
   "metadata": {},
   "outputs": [
    {
     "data": {
      "image/png": "[encoded data removed]",
      "text/plain": [
       "<Figure size 432x288 with 1 Axes>"
      ]
     },
     "metadata": {},
     "output_type": "display_data"
    }
   ],
   "source": [
    "import matplotlib.pyplot as plt\n",
    "\n",
    "\n",
    "plt.style.use('dark_background')\n",
    "plt.plot(list(first.values[0]), label=\"First Wave\")\n",
    "plt.plot(list(second.values[0]), label=\"Second Wave\")\n",
    "plt.ylabel('Daily Confirmed Corona Cases in Austria')\n",
    "plt.legend()\n",
    "plt.show()"
   ]
  },
  {
   "cell_type": "code",
   "execution_count": 163,
   "metadata": {},
   "outputs": [
    {
     "data": {
      "text/plain": [
       "Ttest_indResult(statistic=-6.908884206944866, pvalue=1.3007700245958413e-10)"
      ]
     },
     "execution_count": 163,
     "metadata": {},
     "output_type": "execute_result"
    }
   ],
   "source": [
    "from scipy import stats\n",
    "\n",
    "stats.ttest_ind(first.values[0],second.values[0])"
   ]
  },
  {
   "cell_type": "markdown",
   "metadata": {},
   "source": [
    "## Insight 3"
   ]
  },
  {
   "cell_type": "code",
   "execution_count": 168,
   "metadata": {},
   "outputs": [],
   "source": [
    "main = df_total_daily.loc[df_total_daily[\"iso_code\"].isin([\"USA\", \"BRA\", \"IND\"])]\n",
    "rest = df_total_daily.loc[~df_total_daily[\"iso_code\"].isin([\"USA\", \"BRA\", \"IND\"])]"
   ]
  },
  {
   "cell_type": "code",
   "execution_count": 182,
   "metadata": {},
   "outputs": [],
   "source": [
    "week = datetime.now() - timedelta(8)\n",
    "week_date = datetime.strftime(week, \"%m/%#d/%y\")"
   ]
  },
  {
   "cell_type": "code",
   "execution_count": 183,
   "metadata": {},
   "outputs": [],
   "source": [
    "month = datetime.now() - timedelta(32)\n",
    "month_date = datetime.strftime(month, \"%m/%#d/%y\")"
   ]
  },
  {
   "cell_type": "code",
   "execution_count": 201,
   "metadata": {},
   "outputs": [],
   "source": [
    "# week\n",
    "main_week = main.loc[:, week_date:selected_date].sum(axis=0).values\n",
    "total_week = df_total_daily.loc[:, week_date:selected_date].sum(axis=0).values\n",
    "rest_week = rest.loc[:, week_date:selected_date].sum(axis=0).values\n",
    "\n",
    "main_list = []\n",
    "rest_list = []"
   ]
  },
  {
   "cell_type": "code",
   "execution_count": 202,
   "metadata": {},
   "outputs": [
    {
     "name": "stdout",
     "output_type": "stream",
     "text": [
      "0.2973469603318849 0.7026530396681151\n",
      "0.29762298973822576 0.7023770102617742\n",
      "0.3252828779381435 0.6747171220618565\n",
      "0.29894057824162423 0.7010594217583758\n",
      "0.25713758137451725 0.7428624186254827\n",
      "0.3104164375945247 0.6895835624054754\n",
      "0.2962568115786796 0.7037431884213204\n"
     ]
    }
   ],
   "source": [
    "for i in range(len(main_week)):\n",
    "    print(main_week[i]/total_week[i], rest_week[i]/total_week[i])\n",
    "    main_list.append(main_week[i]/total_week[i])\n",
    "    rest_list.append(rest_week[i]/total_week[i])"
   ]
  },
  {
   "cell_type": "code",
   "execution_count": 203,
   "metadata": {},
   "outputs": [
    {
     "name": "stdout",
     "output_type": "stream",
     "text": [
      "0.2975720338282285 0.7024279661717715\n"
     ]
    }
   ],
   "source": [
    "print(sum(main_list)/len(main_list), sum(rest_list)/len(rest_list))"
   ]
  },
  {
   "cell_type": "code",
   "execution_count": 204,
   "metadata": {},
   "outputs": [],
   "source": [
    "# month\n",
    "main_month = main.loc[:, month_date:selected_date].sum(axis=0).values\n",
    "total_month = df_total_daily.loc[:, month_date:selected_date].sum(axis=0).values\n",
    "rest_month = rest.loc[:, month_date:selected_date].sum(axis=0).values\n",
    "\n",
    "main_list = []\n",
    "rest_list = []"
   ]
  },
  {
   "cell_type": "code",
   "execution_count": 205,
   "metadata": {},
   "outputs": [
    {
     "name": "stdout",
     "output_type": "stream",
     "text": [
      "0.34169118471407056 0.6583088152859294\n",
      "0.4821558901025495 0.5178441098974504\n",
      "0.4593161424063862 0.5406838575936138\n",
      "0.42968604402115107 0.5703139559788489\n",
      "0.4382425962050009 0.5617574037949992\n",
      "0.47077703264256376 0.5292229673574362\n",
      "0.4607161746411305 0.5392838253588695\n",
      "0.32321981424148605 0.676780185758514\n",
      "0.38418490224794705 0.6158150977520529\n",
      "0.4058209731570071 0.594179026842993\n",
      "0.382461489285846 0.617538510714154\n",
      "0.3945364729449174 0.6054635270550826\n",
      "0.41988083671821047 0.5801191632817896\n",
      "0.3649472301999143 0.6350527698000856\n",
      "0.2990465971657066 0.7009534028342934\n",
      "0.35476287447994265 0.6452371255200573\n",
      "0.32319870569996756 0.6768012943000324\n",
      "0.3220159253063872 0.6779840746936128\n",
      "0.33564940789486897 0.664350592105131\n",
      "0.38973362378751936 0.6102663762124807\n",
      "0.3390153772797711 0.6609846227202288\n",
      "0.22123354143968943 0.7787664585603106\n",
      "0.31547905865119596 0.684520941348804\n",
      "0.3081674148143055 0.6918325851856945\n",
      "0.2973469603318849 0.7026530396681151\n",
      "0.29762298973822576 0.7023770102617742\n",
      "0.3252828779381435 0.6747171220618565\n",
      "0.29894057824162423 0.7010594217583758\n",
      "0.25713758137451725 0.7428624186254827\n",
      "0.3104164375945247 0.6895835624054754\n",
      "0.2962568115786796 0.7037431884213204\n"
     ]
    }
   ],
   "source": [
    "for i in range(len(main_month)):\n",
    "    print(main_month[i]/total_month[i], rest_month[i]/total_month[i])\n",
    "    main_list.append(main_month[i]/total_month[i])\n",
    "    rest_list.append(rest_month[i]/total_month[i])"
   ]
  },
  {
   "cell_type": "code",
   "execution_count": 207,
   "metadata": {},
   "outputs": [
    {
     "name": "stdout",
     "output_type": "stream",
     "text": [
      "0.35641753376919777 0.6435824662308023\n"
     ]
    }
   ],
   "source": [
    "print(sum(main_list)/len(main_list), sum(rest_list)/len(rest_list))"
   ]
  }
 ],
 "metadata": {
  "kernelspec": {
   "display_name": "Python 3",
   "language": "python",
   "name": "python3"
  },
  "language_info": {
   "codemirror_mode": {
    "name": "ipython",
    "version": 3
   },
   "file_extension": ".py",
   "mimetype": "text/x-python",
   "name": "python",
   "nbconvert_exporter": "python",
   "pygments_lexer": "ipython3",
   "version": "3.7.4"
  }
 },
 "nbformat": 4,
 "nbformat_minor": 2
}
